{
 "cells": [
  {
   "cell_type": "markdown",
   "metadata": {},
   "source": [
    "# Introduction to Py6S: A Radiative Transfer Model using Python\n",
    "\n",
    "## Py6S: A Python interface to 6S\n",
    "\n",
    "<img src=\"6s_diagram_only_diagram.png\", style=\"width: 50%\", align=\"right\">The **S**econd **S**imulation of the **S**atellite **S**ignal in the **S**olar **S**pectrum (**6S**) is an atmospheric Radiative Transfer Model that makes possible to simulate the electromagnetic radiation through a planetary atmosphere. Py6S provides a simple interface through the Python programming language allowing you to run many 6S simulations using a simple Python syntax, rather than dealing with 6S input and output files. As well as generally making it easier to use 6S, Py6S adds a number of new features including:\n",
    "\n",
    "   * The ability to run many simulations easily and quickly, with no manual editing of input files\n",
    "   * The ability to run for many wavelengths and/or angles and easily plot the results\n",
    "   * The ability to import real-world data to parameterise 6S, such as radiosonde measurements, AERONET sun photometer measurements and ground reflectance spectra from spectral libraries\n",
    "\n",
    "Py6S is copyright Robin Wilson and code is freely available at: \n",
    "    * https://github.com/robintw/py6s\n",
    "\n",
    "\n",
    "\n",
    "Documentation including how to install the software and an extensive \"quick start guide\" are also available at: https://py6s.readthedocs.io/en/latest/ During this training we will use some of those resources combined with new examples and radiative transfer model theory to quickly give an overview of Py6S and its potential."
   ]
  },
  {
   "cell_type": "markdown",
   "metadata": {},
   "source": [
    "## Introduction to Jupyter\n",
    "\n",
    "During this practical exercise you will be using a Jupyter Notebook (http://jupyter.org/). The Jupyter Notebook is an interactive computational environment, in which you can combine code execution, rich text, mathematics, plots and media.  You will also be able to run Python code by pressing the \"play\" button at the top so even if you are not familiar with Python you should be able to work your way through this worksheet. If you are already familiar with Jupyter Notebooks feel free to skip these few lines, if not, please try running  the following line of code using the \"Run\" button at the top of the notebook."
   ]
  },
  {
   "cell_type": "code",
   "execution_count": null,
   "metadata": {
    "collapsed": false
   },
   "outputs": [],
   "source": [
    "print(\"Hello World!\")"
   ]
  },
  {
   "cell_type": "markdown",
   "metadata": {},
   "source": [
    "As well as running existing code, you will also be able to edit the code and write your own pieces of code. For example, click on the following box and change the value of `example_str` to `\"Hi!\"`. Press the \"play\" button at the top and run the code."
   ]
  },
  {
   "cell_type": "code",
   "execution_count": null,
   "metadata": {
    "collapsed": false
   },
   "outputs": [],
   "source": [
    "example_str = \"You can edit this sentence and press play!\" \n",
    "#This comment is to remind you that quotes are necessary\n",
    "print(example_str)"
   ]
  },
  {
   "cell_type": "markdown",
   "metadata": {},
   "source": [
    "If you followed the instructions, the above output should be \"Hi!\". You can write much more complicated code but that simple (and classic) example should be enough to get you to the issue at hand: **Py6S**"
   ]
  },
  {
   "cell_type": "markdown",
   "metadata": {},
   "source": [
    "## Getting started with Py6S\n",
    "\n",
    "To take advantage of the Jupyter Notebook we will start with a simple Py6S example. The following code will run the 6S model across the Visible-NIR wavelength range using the default values. Later on we will introduce different parameters for the model in detail. Please read the following code then run (using the \"Run\" button). It might take a couple of minutes to run through, once it has finished it will display a plot."
   ]
  },
  {
   "cell_type": "code",
   "execution_count": null,
   "metadata": {
    "collapsed": false
   },
   "outputs": [],
   "source": [
    "%matplotlib inline\n",
    "#This is specific for Jupyter to show the plots in this same window\n",
    "\n",
    "#Now we start by importing the Py6S module\n",
    "import Py6S\n",
    "# Create a SixS object called s (used as the standard name by convention)\n",
    "s = Py6S.SixS()\n",
    "# Will run the 6S simulation defined by this SixS object across the whole VNIR range\n",
    "wavelengths, results = Py6S.SixSHelpers.Wavelengths.run_vnir(s, output_name=\"pixel_radiance\", verbose=False)\n",
    "#Verbose=False will allow us to not print in the screen the entire array plotted in the screen\n",
    "#Will plot these results, with the y axis label set to \"Pixel Radiance\"\n",
    "Py6S.SixSHelpers.Wavelengths.plot_wavelengths(wavelengths, results, \"Pixel Radiance\")\n",
    "#This will take a few seconds to plot the entire numpy array\n",
    "print(\"All done!\")"
   ]
  },
  {
   "cell_type": "markdown",
   "metadata": {},
   "source": [
    "\n",
    "As you have noticed, Py6S has built in helper function for plotting data which are useful for quickly checking outputs. In this training we will be using [matplotlib](https://matplotlib.org/) directly, as this allows more control over plotting parameters.\n",
    "\n",
    "The sections of code in a Jupyter notebook are executed sequentially so variables defined in an earlier section of code are available within any sectons of code defined after. For example, when you executed:"
   ]
  },
  {
   "cell_type": "code",
   "execution_count": null,
   "metadata": {
    "collapsed": true
   },
   "outputs": [],
   "source": [
    "import Py6S"
   ]
  },
  {
   "cell_type": "markdown",
   "metadata": {},
   "source": [
    "The imported module will be already in memory and will not be needed to be imported again. During the begining of this training I will be writing the entire code and importing modules into each block of code for clarity. This should help you getting used to the coding styles if you are not familiar with Python but later on I will only write the specific lines needed. You can always come back to this training to finish it at a later date. If you want to to use Py6S on your own you will want to be able to copy paste the code used in this training, apply some minor changes and have it run sucessfully. "
   ]
  },
  {
   "cell_type": "markdown",
   "metadata": {},
   "source": [
    "## Parameters for any Radiative Transfer Model\n",
    "\n",
    "Before explainning in detail the different parameters available on Py6S, it is important to understand the main parameters that regulate any solar radiation transfer in the atmosphere. We can simplify the model and summarize those main variables as:\n",
    "\n",
    "* Water vapour content\n",
    "* Aerosol composition and thickness\n",
    "* Geometry: Position of illumination (the Sun) and sensor relative to the target\n",
    "* Ground reflectance characteristics\n"
   ]
  },
  {
   "cell_type": "markdown",
   "metadata": {},
   "source": [
    "### Atmospheric Profile\n",
    "\n",
    "In the solar spectrum the atmospheric gaseous absorptions are principally due to: oxygen, ozone, water vapour, carbon dioxide, methane and nitrous oxide.\n",
    "\n",
    "<img src=\"water_vapor_columns.png\", style=\"width: 30%\", align=\"right\"> Typical water contents, in grams per square centimetre, for different zones are shown in the table to the right.\n",
    "\n",
    "You can add your own water vapour value if you have a measure of it or you can use it or you can download it if available for some web services such as AERONET. You can also calculate the water content by the latitude and date using a built in Py6S method but this will be approximate and will depend on how close your site is to the sea or the weather for that specific day.\n",
    "\n",
    "It is also possible to estimate water vapour from an image spectra, by using water absorption bands. This is the method used by some atmospheric correction packages such as ATCOR.\n",
    "\n",
    "Have a look at what different default values and methods there are for providing an atmospheric profile in Py6S. If you have been running the previous code, the Py6S module is already imported and you will be able to display the available default options by clicking into the next code and pressing *TAB*. Give it a go:"
   ]
  },
  {
   "cell_type": "code",
   "execution_count": null,
   "metadata": {
    "collapsed": true
   },
   "outputs": [],
   "source": [
    "Py6S.AtmosProfile."
   ]
  },
  {
   "cell_type": "markdown",
   "metadata": {},
   "source": [
    "Please note that those are predefined methods and they do not return water vapour. Each method stores an enumeration for the pre-specified atmospheric model types. If you want to use a specific value of water vapour you can use other different class methods such as: `Py6S.AtmosProfile.UserWaterAndOzone(water, ozone)` \n",
    "\n",
    "For example:"
   ]
  },
  {
   "cell_type": "code",
   "execution_count": null,
   "metadata": {
    "collapsed": true
   },
   "outputs": [],
   "source": [
    "s.atmos_profile = Py6S.AtmosProfile.PredefinedType(Py6S.AtmosProfile.Tropical)"
   ]
  },
  {
   "cell_type": "markdown",
   "metadata": {},
   "source": [
    "### Geometry\n",
    "\n",
    "The geometry should include solar angles and altitude of target and sensor. \n",
    "\n",
    "<img src=\"solar_angles_small.png\", style=\"width: 40%\", align=\"left\">  Using the Py6S module, we can compute the position of the sun by using the latitude and longitude of the target as well as time and day of the year. For the sensor we still need the angles:\n",
    "\n",
    "* View azimuth: Angle in the ground between North and the sensor view direction\n",
    "* View zenith angle: Angle between the nadir and the sensor view direction\n",
    "\n",
    "For example, for an observer directly under the flight path of the plane, the azimuth angle will be the same as the direction of the plane (heading) and the view zenith angle will be 0.\n",
    "\n",
    "\n",
    "In the next practical example we will examine how different viewing angles can affect the spectra. For a given position and time, test different viewing angles of 0° (nadir) and 60°. Run the following code to see how the spectra changes. It will take a couple of minutes to run and will generate a plot."
   ]
  },
  {
   "cell_type": "code",
   "execution_count": null,
   "metadata": {
    "collapsed": false
   },
   "outputs": [],
   "source": [
    "%matplotlib inline\n",
    "#This is specific for Jupyter to show the plots in this same window\n",
    "\n",
    "import Py6S\n",
    "import numpy\n",
    "from matplotlib import pyplot as plt\n",
    "\n",
    "#Will define a location by its lat and lon\n",
    "lat = 50.366110\n",
    "lon = -4.148037\n",
    "#Now we need the date and time in a string with the following format:\n",
    "flight_time = '13/02/2017 09:00:00'\n",
    "#Flight altitude\n",
    "plane_altitude = 1 #Altitude in km\n",
    "#Will choose the spectral range between 0.38 and 2.5 micrometres \n",
    "wavelengths = numpy.arange(0.38, 2.5, 0.025)\n",
    "#Please note that Py6S needs the input to be in micrometres\n",
    "\n",
    "\n",
    "#We can create the Py6S.SixS() class\n",
    "s = Py6S.SixS()\n",
    "#We will define our own geometry\n",
    "s.geometry = Py6S.Geometry.User()\n",
    "#With our own plane altitude\n",
    "s.altitudes.set_sensor_custom_altitude(plane_altitude)\n",
    "\n",
    "#Let's make this very simple and have one class with viewing angle 0\n",
    "s0 = s\n",
    "#We have just copied all definitions of class 's' to a new class 's0'\n",
    "view_zenith = 0\n",
    "#The azimuth angle will be 0\n",
    "view_azimuth = 0\n",
    "#Now we add the location and angles to our geometry s0\n",
    "s0.geometry.from_time_and_location(lat, lon, flight_time, view_zenith, view_azimuth)\n",
    "#Now we can compute the Py6S model for our class s0 with the geometry included; this might take some time\n",
    "py6s_wv, py6s_output_0 = Py6S.SixSHelpers.Wavelengths.run_wavelengths(s0, wavelengths, \n",
    "                                                                  output_name='apparent_radiance',\n",
    "                                                                  verbose=False)\n",
    "#Now we can plot it: please note that the output has been named as \"py6s_output_0\"\n",
    "plt.plot(py6s_wv*1000, py6s_output_0*100, label=\"Viewing zenith angle = {}\".format(view_zenith))\n",
    "#We have changed the units to match the default NERC-ARF Fenix sensor (so can compare easily)\n",
    "#We have transformed the wavelengths from micrometres to nanometres and\n",
    "#the at-sensor radiance to nW cm$^{-2}$ sr$^{-1}$ nm$^{-1}$'\n",
    "#We will use the same notation from now on\n",
    "\n",
    "\n",
    "#Now let's do the same with viewing_angle=60 -> will name the new class s60\n",
    "s60 = s\n",
    "#We have just copied all definitions of class 's' to a new class 's60'\n",
    "view_zenith = 60\n",
    "#In this case, the azimuth angle has been changed to be 60 instead of 0\n",
    "#The azimuth angle will still be 0 \n",
    "view_azimuth = 0\n",
    "#We add the new parameters to the geometry and run model\n",
    "s60.geometry.from_time_and_location(lat, lon, flight_time, view_zenith, view_azimuth)\n",
    "py6s_wv, py6s_output_60 = Py6S.SixSHelpers.Wavelengths.run_wavelengths(s60, wavelengths, \n",
    "                                                                  output_name='apparent_radiance',\n",
    "                                                                  verbose=False)\n",
    "#And we plot it as well, this time the output has been named as \"py6s_output_60\"\n",
    "plt.plot(py6s_wv*1000, py6s_output_60*100, label=\"Viewing zenith angle = {}\".format(view_zenith))\n",
    "\n",
    "plt.xlabel('Wavelength (nm)')\n",
    "plt.ylabel('At-sensor radiance nW cm$^{-2}$ sr$^{-1}$ nm$^{-1}$')\n",
    "plt.legend()\n",
    "plt.show()"
   ]
  },
  {
   "cell_type": "markdown",
   "metadata": {},
   "source": [
    "The latest code makes a perfect example about how you can use Py6S for your data. You can install the software (or keep using this virtual machine) and just need to edit the input to your geometry to match your needs. You will have an usable script that will allow you to compare the model with your recorded data. As part of the delivery checks, the NERC-ARF-DAN have an automated script that looks for vegetation pixels in any hyperspectral data and compares it with the spectra simulated by 6S at the plane altitude. This easily and quickly allows to detect possible problems with the spectra if the sensor developed a fault. \n",
    "\n",
    "Now, how will the spectra change if you use the same parameters as before but have a constant viewing angle and variable azimuth? Try it yourself, copy the above code in the next box and edit it before running. Use the parameters:\n",
    "    * s0  -> Azimuth=0°, zenith=60°\n",
    "    * s60 -> Azimuth=60°, zenith=60°"
   ]
  },
  {
   "cell_type": "code",
   "execution_count": null,
   "metadata": {
    "collapsed": true
   },
   "outputs": [],
   "source": []
  },
  {
   "cell_type": "markdown",
   "metadata": {},
   "source": [
    "Take a moment to see how the spectra varies. Now what if you set both zenith angles to 0 and compare azimuth angles from 0° and 60°, how will the spectra vary? Why? Take a moment to think about this and edit the latest code to meet the new criteria and test it."
   ]
  },
  {
   "cell_type": "markdown",
   "metadata": {},
   "source": [
    "In the case of aerosol composition, if you know the atmosphere composition you can specify the percentages to have a more accurate model. You can specify contributions of each aerosol using the class method AeroProfile.User with the keywords:\n",
    "\n",
    "    dust – The proportion of dust-like aerosols\n",
    "    water – The proportion of water-like aerosols\n",
    "    oceanic – The proportion of oceanic aerosols\n",
    "    soot – The proportion of soot-like aerosols\n",
    "\n",
    "Please note that the sum of proportions must be one. Here you have a couple of examples:"
   ]
  },
  {
   "cell_type": "code",
   "execution_count": null,
   "metadata": {
    "collapsed": true
   },
   "outputs": [],
   "source": [
    "s.aeroprofile = Py6S.AeroProfile.User(dust=0.3, oceanic=0.7)\n",
    "#or:\n",
    "s.aeroprofile = Py6S.AeroProfile.User(soot = 0.1, water = 0.3, oceanic = 0.05, dust = 0.55)\n",
    "#Note that for both lines, the sum of percentages is 1. Otherwise Py6S will show an error"
   ]
  },
  {
   "cell_type": "markdown",
   "metadata": {},
   "source": [
    "### Aerosol Optical Thickness\n",
    "\n",
    "Another important parameter is the Aerosol Optical Thickness (AOT) defined at 550nm, which is related to the visibility. It can be measured (e.g., using a sun photometer) or imported from a service such as [AERONET](https://aeronet.gsfc.nasa.gov/). There are specific functions developed within `Py6S.SixSHelpers` that allow you to define the aerosol profile by importing AERONET measurements or using the  British Antarctic Survey radiosonde format but in the simplest case scenario, you can enter the values manually.\n",
    "\n",
    "In the next example we will go one step beyond and will use a loop over different AOT values to see how the spectra varies. From the following code, I will not repeat earlier code and import modules / define variables again, as they should have been loaded into memory. Just remember that if you come back to this workseet, you will have to run again the code shown before that imported modules and created the Py6S classes).\n",
    "\n",
    "Please read the code carefully and run it. Again it will take a couple of minutes to run and produce a plot."
   ]
  },
  {
   "cell_type": "code",
   "execution_count": null,
   "metadata": {
    "collapsed": false
   },
   "outputs": [],
   "source": [
    "plane_altitude = 0.2 #Altitude in km\n",
    "#Let's use this smaller altitude to see variations more clearly\n",
    "s.altitudes.set_sensor_custom_altitude(plane_altitude)\n",
    "#With the last line we have included that new altitude into account\n",
    "\n",
    "#Will do a loop over optical thickness varying from 0 to 1 with intervals of 0.2\n",
    "for aot_val in numpy.arange(0, 1, 0.2):\n",
    "    #Everything that is at this level of indentation is running in the loop\n",
    "    print(\"Will run 6S model for AOT = {:.2f}\".format(aot_val))\n",
    "    #Have printed an informative message and will define the aerosol optical thickness\n",
    "    s.aot550 = aot_val\n",
    "    #Will run the model\n",
    "    py6s_wv, py6s_output = Py6S.SixSHelpers.Wavelengths.run_wavelengths(s, wavelengths, \n",
    "                                                                  output_name='apparent_radiance',\n",
    "                                                                  verbose=False)\n",
    "    #And plot\n",
    "    plt.plot(py6s_wv*1000, py6s_output*100, label=\"AOT={:.2f}\".format(aot_val))\n",
    "    #End of loop\n",
    "    \n",
    "plt.xlabel('Wavelength (nm)')\n",
    "plt.ylabel('At-sensor radiance nW cm$^{-2}$ sr$^{-1}$ nm$^{-1}$')\n",
    "plt.legend()\n",
    "plt.show()"
   ]
  },
  {
   "cell_type": "markdown",
   "metadata": {},
   "source": [
    "In this simple latest example you have seen how easily you can compute different models even if you are not familiar with programming languages. Would you be able to do a similar loop over plane altitudes from 1km to 20 kms by increasing the plane altitude 5 kms on each iteration? Try yourself by copying and editing the latest code in the next box!"
   ]
  },
  {
   "cell_type": "code",
   "execution_count": null,
   "metadata": {
    "collapsed": true
   },
   "outputs": [],
   "source": []
  },
  {
   "cell_type": "markdown",
   "metadata": {},
   "source": [
    "### Ground Reflectance Characteristics\n",
    "\n",
    "The properties of the target and reflectance properties from different angles effects how much radiation is received by the sensor. When the target behaves like a mirror we have specular reflection,  where each ray is reflected at the same angle as the incident ray. If the surface is not regular, we have diffuse reflection. The diffuse reflection is the type of reflection we can observe from water bodies.\n",
    "\n",
    "\n",
    "<img src=\"difuse_vs_specular.png\", style=\"width: 70%\", align=\"center\">"
   ]
  },
  {
   "cell_type": "markdown",
   "metadata": {},
   "source": [
    "However, natural surfaces do reflect light in all directions. An ideal reflective surface that reflects  light in all directions is called a Lambertian surface. <img src=\"lambertian_surface.png\", style=\"width: 40%\", align=\"center\">"
   ]
  },
  {
   "cell_type": "markdown",
   "metadata": {},
   "source": [
    "Please note that the Lambertian surface reflects light in all directions homogeneously. Natural surfaces usually exhibit a non homogeneous anisotropic reflectance characteristics, which describe the dependency of the reflectance spectra on the illumination and viewing geometry.  This is defined by the Bidirectional Reflectance Distribution Function (BRDF) and lambertian reflectances are usually used as a first approximation of the model.\n",
    "\n",
    "Py6S has a  number of different ground reflectances that include homogeneous and heterogenous reflectances. Without entering into much detail about the different models available (Lambertian homogeneous or heterogeneous, homogeneous Hapke...); it is worth pointing out that Py6S also contains some predefined ground reflectances for different types of surfaces such as green vegetation, water... With that in mind, if you would like for example to use the homogenous lambertian model for a green vegetation area you will be using:"
   ]
  },
  {
   "cell_type": "code",
   "execution_count": null,
   "metadata": {
    "collapsed": true
   },
   "outputs": [],
   "source": [
    "s.ground_reflectance = Py6S.GroundReflectance.HomogeneousLambertian(Py6S.GroundReflectance.GreenVegetation)"
   ]
  },
  {
   "cell_type": "markdown",
   "metadata": {},
   "source": [
    "Once again, you can have a look at all types of predefined methods available by pressing *TAB* for each class. For example, click in the next box and press *TAB* to see all methods available:"
   ]
  },
  {
   "cell_type": "code",
   "execution_count": null,
   "metadata": {
    "collapsed": true
   },
   "outputs": [],
   "source": [
    "Py6S.GroundReflectance."
   ]
  },
  {
   "cell_type": "markdown",
   "metadata": {},
   "source": [
    "As you have seen there are plenty of options! You have now had a quick overview about the main parameters that affect Radiative Transfer Models, how they modulate the spectra as well as how to specify within the Py6S model. You are ready now to have a look at all different parameters that Py6S (as part of the SixS class methods) can handle:"
   ]
  },
  {
   "cell_type": "markdown",
   "metadata": {},
   "source": [
    "<div class=\"wy-table-responsive\"><table class=\"docutils\" border=\"1\">\n",
    "<colgroup>\n",
    "<col width=\"15%\">\n",
    "<col width=\"44%\">\n",
    "<col width=\"41%\">\n",
    "</colgroup>\n",
    "<thead valign=\"bottom\">\n",
    "<tr class=\"row-odd\"><th class=\"head\">SixS Parameter</th>\n",
    "<th class=\"head\">Description</th>\n",
    "<th class=\"head\">Possible values</th>\n",
    "</tr>\n",
    "</thead>\n",
    "<tbody valign=\"top\">\n",
    "<tr class=\"row-even\"><td><code class=\"docutils literal\"><span class=\"pre\">atmos_profile</span></code></td>\n",
    "<td>Atmospheric profile (pressure, water vapour, ozone etc)</td>\n",
    "<td>Any outputs from <a class=\"reference internal\" title=\"Py6S.AtmosProfile\"><code class=\"xref py py-class docutils literal\"><span class=\"pre\">AtmosProfile</span></code></a></td>\n",
    "</tr>\n",
    "<tr class=\"row-odd\"><td><code class=\"docutils literal\"><span class=\"pre\">aero_profile</span></code></td>\n",
    "<td>Aerosol profile (types, distributions etc)</td>\n",
    "<td>Any outputs from <a class=\"reference internal\" title=\"Py6S.AeroProfile\"><code class=\"xref py py-class docutils literal\"><span class=\"pre\">AeroProfile</span></code></a></td>\n",
    "</tr>\n",
    "<tr class=\"row-even\"><td><code class=\"docutils literal\"><span class=\"pre\">ground_reflectance</span></code></td>\n",
    "<td>Ground reflectance (Homogeneity, BRDF etc.)</td>\n",
    "<td>Any outputs from <a class=\"reference internal\"  title=\"Py6S.GroundReflectance\"><code class=\"xref py py-class docutils literal\"><span class=\"pre\">GroundReflectance</span></code></a></td>\n",
    "</tr>\n",
    "<tr class=\"row-odd\"><td><code class=\"docutils literal\"><span class=\"pre\">geometry</span></code></td>\n",
    "<td>Viewing/Illumination geometry (manual or satellite-specific)</td>\n",
    "<td>A <code class=\"docutils literal\"><span class=\"pre\">Geometry*</span></code> class, for example <a class=\"reference internal\"  title=\"Py6S.Geometry.User\"><code class=\"xref py py-class docutils literal\"><span class=\"pre\">Geometry.User</span></code></a></td>\n",
    "</tr>\n",
    "<tr class=\"row-even\"><td><code class=\"docutils literal\"><span class=\"pre\">aot550</span></code></td>\n",
    "<td>Aerosol Optical Thickness at 550nm</td>\n",
    "<td>Floating point number</td>\n",
    "</tr>\n",
    "<tr class=\"row-odd\"><td><code class=\"docutils literal\"><span class=\"pre\">visibility</span></code></td>\n",
    "<td>Visibility in km</td>\n",
    "<td>Floating point number</td>\n",
    "</tr>\n",
    "<tr class=\"row-even\"><td><code class=\"docutils literal\"><span class=\"pre\">altitude</span></code></td>\n",
    "<td>Altitudes of the sensor and target</td>\n",
    "<td>An instance of the <code class=\"docutils literal\"><span class=\"pre\">Altitudes</span></code> class</td>\n",
    "</tr>\n",
    "<tr class=\"row-odd\"><td><code class=\"docutils literal\"><span class=\"pre\">atmos_corr</span></code></td>\n",
    "<td>Atmospheric correction settings (yes/no, reflectances)</td>\n",
    "<td>Any outputs from <a class=\"reference internal\" title=\"Py6S.AtmosCorr\"><code class=\"xref py py-class docutils literal\"><span class=\"pre\">AtmosCorr</span></code></a></td>\n",
    "</tr>\n",
    "</tbody>\n",
    "</table></div>"
   ]
  },
  {
   "cell_type": "markdown",
   "metadata": {},
   "source": [
    "In the latest examples we have not specified any atmospheric correction but as you can see in the table a few models are available in the 6S model. This training is just a quick introduction to give you a feeling about how easily you can use the 6S model for your research. For more information about all different options and setup for the parameters as well as how to use atmospheric correction within the model; please visit the  Py6S documentation page."
   ]
  },
  {
   "cell_type": "markdown",
   "metadata": {},
   "source": [
    "## Extended Py6S Options Helpers methods, accessing the outputs and use of field spectra\n",
    "\n",
    "You might have noticed that we have been always running the model by using one of the SixSHelpers methods built in Py6S, more precisely by running:\n",
    "\n",
    "    Py6S.SixSHelpers.Wavelengths.run_wavelengths(s, wavelengths,output_name)\n",
    "\n",
    "While you can choose to run the model and access the outputs once finished (as we will later show), the SixSHelpers module provides a number of helper functions that makes it easier to run the model for specific data sources as well as producing the wavelengths and BRDF plots from 6S runs.\n",
    "\n",
    "The main types of SixSHelpers include:\n",
    "   - Py6S.SixSHelpers.Wavelengths\n",
    "   - Py6S.SixSHelpers.Angles\n",
    "   - Py6S.SixSHelpers.Radiosonde\n",
    "   - Py6S.SixSHelpers.Aeronet\n",
    "   - Py6S.SixSHelpers.Spectra\n",
    "\n",
    "We will not go over each method but you can, for example, run the model using the wavelengths of the MERIS satellite by running Py6S.SixSHelpers.Wavelengths.run_meris or easily plot the spectra with the already available method SixSHelpers.Wavelengths.plot_wavelengths\n",
    "\n",
    "Use the next box to have a look to the available SixSHelpers.Wavelengths. methods by clicking right afer the dot and pressing TAB."
   ]
  },
  {
   "cell_type": "code",
   "execution_count": null,
   "metadata": {
    "collapsed": true
   },
   "outputs": [],
   "source": [
    "help(Py6S.SixSHelpers.Wavelengths. )\n",
    "#If you select a method and run this code, it will print the documentation written in the code\n",
    "#It might be very technical and large..."
   ]
  },
  {
   "cell_type": "markdown",
   "metadata": {},
   "source": [
    "On the other hand, if you do not use one of the helper methods, you can run the model and access the outputs one by one with the tab. Have a look at the following example:"
   ]
  },
  {
   "cell_type": "code",
   "execution_count": null,
   "metadata": {
    "collapsed": false
   },
   "outputs": [],
   "source": [
    "#We import the module\n",
    "import Py6S\n",
    "#Create a default SixS class\n",
    "s = Py6S.SixS()\n",
    "#Will run the model for the default\n",
    "s.run()\n",
    "#All done, we can access the outputs stored in the class:\n",
    "print(s.outputs.transmittance_water)"
   ]
  },
  {
   "cell_type": "markdown",
   "metadata": {},
   "source": [
    "Once again, play a bit with the outputs available using the following box."
   ]
  },
  {
   "cell_type": "code",
   "execution_count": null,
   "metadata": {
    "collapsed": true
   },
   "outputs": [],
   "source": []
  },
  {
   "cell_type": "markdown",
   "metadata": {},
   "source": [
    "### Importing Spectra\n",
    "\n",
    "If you are using some ground spectra, you can also use it to model the ground reflectance. The helper methods include a function to import a spectral library from the ASTER Spectral Library and another method to use the USGS Spectral library. However, if you recorded your own ground spectra you can use it too. That is the magic of Python!\n",
    "\n",
    "To finalise this short practical session, in the next example you will see how to import your own spectra by using the PySpectra module. You can create an spectra object by specifying the path to the file and the scale (percentage) of the reflectance measured. Read the following code and run it to load the ground spectra within the file (also downloaded with this jupyter notebook):"
   ]
  },
  {
   "cell_type": "code",
   "execution_count": null,
   "metadata": {
    "collapsed": false
   },
   "outputs": [],
   "source": [
    "#We need to import the new library\n",
    "import PySpectra\n",
    "#we will also use later numpy as well so let's import it now\n",
    "import numpy\n",
    "\n",
    "#Now you can create a spectra object\n",
    "spectra_object = PySpectra.extract_spectra_from_file(\"ground_measure.txt\",\n",
    "                                                    reflectance_scale=float(100))\n",
    "#TIP: If the file is in another directory, you will neeed to specify its path\n",
    "#Note that the relfectance_scale depends on your data (usually percentages)"
   ]
  },
  {
   "cell_type": "markdown",
   "metadata": {},
   "source": [
    "If you have been able to create the spectra object, it will have stored the attribute wavelengths and values as:\n",
    "     spectra_object.wavelengths\n",
    "     spectra_object.values\n",
    "\n",
    "Now you can use it to compute the ground reflectance. In order to do so, you have to extract the wavelengths and reflectances to compute the ground reflectance matrix. This code might get a bit more complicated than before so even if you are not used to coding, please stay with me; we are close to the end! To compute the ground reflectance matrix you can do:"
   ]
  },
  {
   "cell_type": "code",
   "execution_count": null,
   "metadata": {
    "collapsed": true
   },
   "outputs": [],
   "source": [
    "#First of all remove values outside reflectance limits\n",
    "spectra_object.wavelengths = spectra_object.wavelengths[spectra_object.values < 1.0]\n",
    "spectra_object.values = spectra_object.values[spectra_object.values < 1.0]\n",
    "\n",
    "#Now we want to use the wavelengths and values for the matrix\n",
    "val = spectra_object.values\n",
    "wl = spectra_object.wavelengths\n",
    "#TIP: This is really important, Py6S needs micrometers! \n",
    "if spectra_object.wavelength_units == 'nm':\n",
    "    #If you are using the provided data it would be nanometres\n",
    "    #Need to convert from nanometers to micrometres for py6s\n",
    "    wl = wl*0.001\n",
    "else:\n",
    "    #For this training it has to be so will throw an error but you can change this if not\n",
    "    raise Exception(\"Unknown wavelength units: {}\".format(spectra_object.wavelength_units))\n",
    "#Now we can compute the array GR = Ground reflectance\n",
    "GR = numpy.array([wl,val])\n",
    "#But note it has to be the transponse of the matrix!\n",
    "GR = GR.transpose()\n",
    "#Finally ready!"
   ]
  },
  {
   "cell_type": "markdown",
   "metadata": {},
   "source": [
    "Once the final **GR** array has been created, you can just enter it into the Py6S model. Assuming that in this case we can use the homogeneous Lambertian approximation, we can simply enter that into the SixS class already created by using the ground_reflectance parameter:"
   ]
  },
  {
   "cell_type": "code",
   "execution_count": null,
   "metadata": {
    "collapsed": true
   },
   "outputs": [],
   "source": [
    "s.ground_reflectance = Py6S.GroundReflectance.HomogeneousLambertian(GR)"
   ]
  },
  {
   "cell_type": "markdown",
   "metadata": {},
   "source": [
    "And we are finally in the position to run the model using our ground reflectance. As a final exercise, would you be able to run the model now in the next box and plot the results? Would you be able to use what you have learned to compare in a single plot the results of using our own ground reflectance and one of the predefined types such as the Py6S.GroundReflectance.ClearWater? \n",
    "\n",
    "Dare yourself to try it out in the next box"
   ]
  },
  {
   "cell_type": "code",
   "execution_count": null,
   "metadata": {
    "collapsed": true
   },
   "outputs": [],
   "source": []
  },
  {
   "cell_type": "markdown",
   "metadata": {},
   "source": [
    "We hope that you have enjoyed this short hands-on training. Hopefuly you have realised how easily the 6S model can be run using the default types included in Py6S and how you can get more accurate results with a bit of time by using other methods. If you think this might be beneficial for your research it definetly pays off! Once again, Py6S is freely available and a more extensive guide is available here:\n",
    "https://py6s.readthedocs.io/en/latest/ "
   ]
  }
 ],
 "metadata": {
  "kernelspec": {
   "display_name": "Python 2",
   "language": "python",
   "name": "python2"
  },
  "language_info": {
   "codemirror_mode": {
    "name": "ipython",
    "version": 2
   },
   "file_extension": ".py",
   "mimetype": "text/x-python",
   "name": "python",
   "nbconvert_exporter": "python",
   "pygments_lexer": "ipython2",
   "version": "2.7.13"
  }
 },
 "nbformat": 4,
 "nbformat_minor": 1
}
